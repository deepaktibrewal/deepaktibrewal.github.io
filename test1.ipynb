{
  "nbformat": 4,
  "nbformat_minor": 0,
  "metadata": {
    "colab": {
      "name": "test1.ipynb",
      "provenance": [],
      "include_colab_link": true
    },
    "kernelspec": {
      "name": "python3",
      "display_name": "Python 3"
    }
  },
  "cells": [
    {
      "cell_type": "markdown",
      "metadata": {
        "id": "view-in-github",
        "colab_type": "text"
      },
      "source": [
        "<a href=\"https://colab.research.google.com/github/deepaktibrewal/deepaktibrewal.github.io/blob/master/test1.ipynb\" target=\"_parent\"><img src=\"https://colab.research.google.com/assets/colab-badge.svg\" alt=\"Open In Colab\"/></a>"
      ]
    },
    {
      "cell_type": "code",
      "metadata": {
        "id": "tHCPE5GOmOa9",
        "colab_type": "code",
        "colab": {
          "base_uri": "https://localhost:8080/",
          "height": 272
        },
        "outputId": "76048250-f918-4c07-a91d-3d3b455c5645"
      },
      "source": [
        "!apt-get update\n",
        "!apt-get install openjdk-8-jdk-headless -qq > /dev/null\n",
        "!wget -q http://www-us.apache.org/dist/spark/spark-2.3.1/spark-2.3.1-bin-hadoop2.7.tgz\n",
        "!tar xf spark-2.3.1-bin-hadoop2.7.tgz\n",
        "!pip install -q findspark"
      ],
      "execution_count": 5,
      "outputs": [
        {
          "output_type": "stream",
          "text": [
            "\r0% [Working]\r            \rIgn:1 https://developer.download.nvidia.com/compute/cuda/repos/ubuntu1804/x86_64  InRelease\n",
            "\r0% [Connecting to archive.ubuntu.com] [Connecting to security.ubuntu.com (91.18\r                                                                               \rIgn:2 https://developer.download.nvidia.com/compute/machine-learning/repos/ubuntu1804/x86_64  InRelease\n",
            "\r0% [Connecting to archive.ubuntu.com (91.189.88.31)] [Waiting for headers] [Con\r                                                                               \rHit:3 https://developer.download.nvidia.com/compute/cuda/repos/ubuntu1804/x86_64  Release\n",
            "\r0% [Connecting to archive.ubuntu.com (91.189.88.31)] [Waiting for headers] [Con\r0% [Release.gpg gpgv 564 B] [Connecting to archive.ubuntu.com (91.189.88.31)] [\r                                                                               \rHit:4 https://developer.download.nvidia.com/compute/machine-learning/repos/ubuntu1804/x86_64  Release\n",
            "\r0% [Release.gpg gpgv 564 B] [Connecting to archive.ubuntu.com (91.189.88.31)] [\r                                                                               \rGet:5 http://security.ubuntu.com/ubuntu bionic-security InRelease [88.7 kB]\n",
            "\r0% [Release.gpg gpgv 564 B] [Connecting to archive.ubuntu.com (91.189.88.24)] [\r                                                                               \rHit:6 http://ppa.launchpad.net/graphics-drivers/ppa/ubuntu bionic InRelease\n",
            "\r0% [Release.gpg gpgv 564 B] [Connecting to archive.ubuntu.com (91.189.88.24)] [\r0% [Waiting for headers] [5 InRelease 14.2 kB/88.7 kB 16%] [Connected to cloud.\r0% [Release.gpg gpgv 564 B] [Waiting for headers] [5 InRelease 14.2 kB/88.7 kB \r                                                                               \rHit:8 https://cloud.r-project.org/bin/linux/ubuntu bionic-cran35/ InRelease\n",
            "Hit:9 http://archive.ubuntu.com/ubuntu bionic InRelease\n",
            "Hit:11 http://ppa.launchpad.net/marutter/c2d4u3.5/ubuntu bionic InRelease\n",
            "Get:12 http://archive.ubuntu.com/ubuntu bionic-updates InRelease [88.7 kB]\n",
            "Get:13 http://archive.ubuntu.com/ubuntu bionic-backports InRelease [74.6 kB]\n",
            "Fetched 252 kB in 3s (73.5 kB/s)\n",
            "Reading package lists... Done\n",
            "tar: spark-2.3.1-bin-hadoop2.7.tgz: Cannot open: No such file or directory\n",
            "tar: Error is not recoverable: exiting now\n"
          ],
          "name": "stdout"
        }
      ]
    },
    {
      "cell_type": "code",
      "metadata": {
        "id": "zClIOwZ6uUTN",
        "colab_type": "code",
        "colab": {
          "base_uri": "https://localhost:8080/",
          "height": 204
        },
        "outputId": "16e2775d-63a2-4165-d5eb-25f507688dbc"
      },
      "source": [
        "!wget http://apachemirror.wuchna.com/spark/spark-2.4.4/spark-2.4.4-bin-hadoop2.7.tgz"
      ],
      "execution_count": 26,
      "outputs": [
        {
          "output_type": "stream",
          "text": [
            "--2019-10-19 07:36:58--  http://apachemirror.wuchna.com/spark/spark-2.4.4/spark-2.4.4-bin-hadoop2.7.tgz\n",
            "Resolving apachemirror.wuchna.com (apachemirror.wuchna.com)... 104.26.3.179, 104.26.2.179, 2606:4700:20::681a:2b3, ...\n",
            "Connecting to apachemirror.wuchna.com (apachemirror.wuchna.com)|104.26.3.179|:80... connected.\n",
            "HTTP request sent, awaiting response... 200 OK\n",
            "Length: 230091034 (219M) [application/x-gzip]\n",
            "Saving to: ‘spark-2.4.4-bin-hadoop2.7.tgz’\n",
            "\n",
            "spark-2.4.4-bin-had 100%[===================>] 219.43M  10.1MB/s    in 31s     \n",
            "\n",
            "2019-10-19 07:37:30 (7.04 MB/s) - ‘spark-2.4.4-bin-hadoop2.7.tgz’ saved [230091034/230091034]\n",
            "\n"
          ],
          "name": "stdout"
        }
      ]
    },
    {
      "cell_type": "code",
      "metadata": {
        "id": "SW-Wbw7EuWCR",
        "colab_type": "code",
        "colab": {
          "base_uri": "https://localhost:8080/",
          "height": 34
        },
        "outputId": "c9cbb6db-50fd-4270-f93d-fcd9ca48be2d"
      },
      "source": [
        "!ls"
      ],
      "execution_count": 29,
      "outputs": [
        {
          "output_type": "stream",
          "text": [
            "sample_data  spark-2.4.4-bin-hadoop2.7\tspark-2.4.4-bin-hadoop2.7.tgz\n"
          ],
          "name": "stdout"
        }
      ]
    },
    {
      "cell_type": "code",
      "metadata": {
        "id": "Zo8dx-Pnu4rA",
        "colab_type": "code",
        "colab": {}
      },
      "source": [
        "!tar xf spark-2.4.4-bin-hadoop2.7.tgz"
      ],
      "execution_count": 0,
      "outputs": []
    },
    {
      "cell_type": "code",
      "metadata": {
        "id": "y_Ie_KwK9WH_",
        "colab_type": "code",
        "colab": {}
      },
      "source": [
        "import os"
      ],
      "execution_count": 0,
      "outputs": []
    },
    {
      "cell_type": "code",
      "metadata": {
        "id": "4o4rzTgwu_Zw",
        "colab_type": "code",
        "colab": {}
      },
      "source": [
        "os.environ[\"JAVA_HOME\"] = \"/usr/lib/jvm/java-8-openjdk-amd64\""
      ],
      "execution_count": 0,
      "outputs": []
    },
    {
      "cell_type": "code",
      "metadata": {
        "id": "ayHwirF07xc6",
        "colab_type": "code",
        "colab": {}
      },
      "source": [
        "os.environ[\"SPARK_HOME\"] = \"/content/spark-2.4.4-bin-hadoop2.7\""
      ],
      "execution_count": 0,
      "outputs": []
    },
    {
      "cell_type": "code",
      "metadata": {
        "id": "QBl0mphd9nSb",
        "colab_type": "code",
        "colab": {}
      },
      "source": [
        "!pip install -q findspark"
      ],
      "execution_count": 0,
      "outputs": []
    },
    {
      "cell_type": "code",
      "metadata": {
        "id": "9L9MLGRb99lc",
        "colab_type": "code",
        "colab": {
          "base_uri": "https://localhost:8080/",
          "height": 34
        },
        "outputId": "933fb472-3216-416d-b398-6b484b6a5593"
      },
      "source": [
        "!pwd"
      ],
      "execution_count": 42,
      "outputs": [
        {
          "output_type": "stream",
          "text": [
            "/content\n"
          ],
          "name": "stdout"
        }
      ]
    },
    {
      "cell_type": "code",
      "metadata": {
        "id": "vxyJ92UP-qSb",
        "colab_type": "code",
        "colab": {
          "base_uri": "https://localhost:8080/",
          "height": 193
        },
        "outputId": "9c051bdd-69e7-470e-a8fb-17202de9bada"
      },
      "source": [
        "import findspark\n",
        "findspark.init()\n",
        "\n",
        "from pyspark import SparkContext\n",
        "sc=SparkContext.getOrCreate()\n",
        "sc"
      ],
      "execution_count": 45,
      "outputs": [
        {
          "output_type": "execute_result",
          "data": {
            "text/html": [
              "\n",
              "        <div>\n",
              "            <p><b>SparkContext</b></p>\n",
              "\n",
              "            <p><a href=\"http://55d63ea571c5:4040\">Spark UI</a></p>\n",
              "\n",
              "            <dl>\n",
              "              <dt>Version</dt>\n",
              "                <dd><code>v2.4.4</code></dd>\n",
              "              <dt>Master</dt>\n",
              "                <dd><code>local[*]</code></dd>\n",
              "              <dt>AppName</dt>\n",
              "                <dd><code>pyspark-shell</code></dd>\n",
              "            </dl>\n",
              "        </div>\n",
              "        "
            ],
            "text/plain": [
              "<SparkContext master=local[*] appName=pyspark-shell>"
            ]
          },
          "metadata": {
            "tags": []
          },
          "execution_count": 45
        }
      ]
    },
    {
      "cell_type": "code",
      "metadata": {
        "id": "vq67xepjAVU9",
        "colab_type": "code",
        "colab": {
          "base_uri": "https://localhost:8080/",
          "height": 216
        },
        "outputId": "9f3e2754-3cfc-4f66-f7ef-24ca564e99a0"
      },
      "source": [
        "import pyspark\n",
        "from pyspark.sql import SparkSession\n",
        "spark=SparkSession.builder.getOrCreate()\n",
        "spark"
      ],
      "execution_count": 46,
      "outputs": [
        {
          "output_type": "execute_result",
          "data": {
            "text/html": [
              "\n",
              "            <div>\n",
              "                <p><b>SparkSession - in-memory</b></p>\n",
              "                \n",
              "        <div>\n",
              "            <p><b>SparkContext</b></p>\n",
              "\n",
              "            <p><a href=\"http://55d63ea571c5:4040\">Spark UI</a></p>\n",
              "\n",
              "            <dl>\n",
              "              <dt>Version</dt>\n",
              "                <dd><code>v2.4.4</code></dd>\n",
              "              <dt>Master</dt>\n",
              "                <dd><code>local[*]</code></dd>\n",
              "              <dt>AppName</dt>\n",
              "                <dd><code>pyspark-shell</code></dd>\n",
              "            </dl>\n",
              "        </div>\n",
              "        \n",
              "            </div>\n",
              "        "
            ],
            "text/plain": [
              "<pyspark.sql.session.SparkSession at 0x7fe3e98efeb8>"
            ]
          },
          "metadata": {
            "tags": []
          },
          "execution_count": 46
        }
      ]
    },
    {
      "cell_type": "code",
      "metadata": {
        "id": "_ekdurW8BwjN",
        "colab_type": "code",
        "colab": {
          "base_uri": "https://localhost:8080/",
          "height": 204
        },
        "outputId": "f889a135-338c-4c30-976e-a94b2ed2d01c"
      },
      "source": [
        "!wget https://data.cityofchicago.org/api/views/ijzp-q8t2/rows.csv?accessType=DOWNLOAD"
      ],
      "execution_count": 47,
      "outputs": [
        {
          "output_type": "stream",
          "text": [
            "--2019-10-19 08:00:06--  https://data.cityofchicago.org/api/views/ijzp-q8t2/rows.csv?accessType=DOWNLOAD\n",
            "Resolving data.cityofchicago.org (data.cityofchicago.org)... 52.206.68.26, 52.206.140.199, 52.206.140.205\n",
            "Connecting to data.cityofchicago.org (data.cityofchicago.org)|52.206.68.26|:443... connected.\n",
            "HTTP request sent, awaiting response... 200 OK\n",
            "Length: unspecified [text/csv]\n",
            "Saving to: ‘rows.csv?accessType=DOWNLOAD’\n",
            "\n",
            "rows.csv?accessType     [         <=>        ]   1.71G  2.96MB/s    in 10m 13s \n",
            "\n",
            "2019-10-19 08:10:37 (2.86 MB/s) - ‘rows.csv?accessType=DOWNLOAD’ saved [1839034937]\n",
            "\n"
          ],
          "name": "stdout"
        }
      ]
    },
    {
      "cell_type": "code",
      "metadata": {
        "id": "HkPBRu4bFri-",
        "colab_type": "code",
        "colab": {
          "base_uri": "https://localhost:8080/",
          "height": 51
        },
        "outputId": "5ba1db86-79f1-429a-cb83-1c816a4b7657"
      },
      "source": [
        "!ls"
      ],
      "execution_count": 49,
      "outputs": [
        {
          "output_type": "stream",
          "text": [
            "'rows.csv?accessType=DOWNLOAD'\t spark-2.4.4-bin-hadoop2.7\n",
            " sample_data\t\t\t spark-2.4.4-bin-hadoop2.7.tgz\n"
          ],
          "name": "stdout"
        }
      ]
    },
    {
      "cell_type": "code",
      "metadata": {
        "id": "oHbMPgmuFs1t",
        "colab_type": "code",
        "colab": {}
      },
      "source": [
        "!mv rows.csv\\?accessType\\=DOWNLOAD reported-crimes.csv"
      ],
      "execution_count": 0,
      "outputs": []
    },
    {
      "cell_type": "code",
      "metadata": {
        "id": "Ks0ijhENGRIO",
        "colab_type": "code",
        "colab": {
          "base_uri": "https://localhost:8080/",
          "height": 51
        },
        "outputId": "e1ce1c26-0a2d-4d5d-d760-c7485895057c"
      },
      "source": [
        "!ls"
      ],
      "execution_count": 51,
      "outputs": [
        {
          "output_type": "stream",
          "text": [
            "reported-crimes.csv  spark-2.4.4-bin-hadoop2.7\n",
            "sample_data\t     spark-2.4.4-bin-hadoop2.7.tgz\n"
          ],
          "name": "stdout"
        }
      ]
    },
    {
      "cell_type": "code",
      "metadata": {
        "id": "A8nvK1FeGUie",
        "colab_type": "code",
        "colab": {
          "base_uri": "https://localhost:8080/",
          "height": 217
        },
        "outputId": "cdeb3aa4-96a3-4198-899c-5d98c995c05e"
      },
      "source": [
        "from pyspark.sql.functions import to_timestamp,col,lit\n",
        "rc = spark.read.csv('reported-crimes.csv', header=True).withColumn('Date', to_timestamp(col('Date'),'MM/dd/yyyy hh:mm:ss a')).filter(col['Date'] == lit('2018-11-12'))\n",
        "rc.show(5)"
      ],
      "execution_count": 72,
      "outputs": [
        {
          "output_type": "error",
          "ename": "TypeError",
          "evalue": "ignored",
          "traceback": [
            "\u001b[0;31m---------------------------------------------------------------------------\u001b[0m",
            "\u001b[0;31mTypeError\u001b[0m                                 Traceback (most recent call last)",
            "\u001b[0;32m<ipython-input-72-2778d15bc86c>\u001b[0m in \u001b[0;36m<module>\u001b[0;34m()\u001b[0m\n\u001b[1;32m      1\u001b[0m \u001b[0;32mfrom\u001b[0m \u001b[0mpyspark\u001b[0m\u001b[0;34m.\u001b[0m\u001b[0msql\u001b[0m\u001b[0;34m.\u001b[0m\u001b[0mfunctions\u001b[0m \u001b[0;32mimport\u001b[0m \u001b[0mto_timestamp\u001b[0m\u001b[0;34m,\u001b[0m\u001b[0mcol\u001b[0m\u001b[0;34m,\u001b[0m\u001b[0mlit\u001b[0m\u001b[0;34m\u001b[0m\u001b[0;34m\u001b[0m\u001b[0m\n\u001b[0;32m----> 2\u001b[0;31m \u001b[0mrc\u001b[0m \u001b[0;34m=\u001b[0m \u001b[0mspark\u001b[0m\u001b[0;34m.\u001b[0m\u001b[0mread\u001b[0m\u001b[0;34m.\u001b[0m\u001b[0mcsv\u001b[0m\u001b[0;34m(\u001b[0m\u001b[0;34m'reported-crimes.csv'\u001b[0m\u001b[0;34m,\u001b[0m \u001b[0mheader\u001b[0m\u001b[0;34m=\u001b[0m\u001b[0;32mTrue\u001b[0m\u001b[0;34m)\u001b[0m\u001b[0;34m.\u001b[0m\u001b[0mwithColumn\u001b[0m\u001b[0;34m(\u001b[0m\u001b[0;34m'Date'\u001b[0m\u001b[0;34m,\u001b[0m \u001b[0mto_timestamp\u001b[0m\u001b[0;34m(\u001b[0m\u001b[0mcol\u001b[0m\u001b[0;34m(\u001b[0m\u001b[0;34m'Date'\u001b[0m\u001b[0;34m)\u001b[0m\u001b[0;34m,\u001b[0m\u001b[0;34m'MM/dd/yyyy hh:mm:ss a'\u001b[0m\u001b[0;34m)\u001b[0m\u001b[0;34m)\u001b[0m\u001b[0;34m.\u001b[0m\u001b[0mfilter\u001b[0m\u001b[0;34m(\u001b[0m\u001b[0mcol\u001b[0m\u001b[0;34m[\u001b[0m\u001b[0;34m'Date'\u001b[0m\u001b[0;34m]\u001b[0m \u001b[0;34m==\u001b[0m \u001b[0mlit\u001b[0m\u001b[0;34m(\u001b[0m\u001b[0;34m'2018-11-12'\u001b[0m\u001b[0;34m)\u001b[0m\u001b[0;34m)\u001b[0m\u001b[0;34m\u001b[0m\u001b[0;34m\u001b[0m\u001b[0m\n\u001b[0m\u001b[1;32m      3\u001b[0m \u001b[0mrc\u001b[0m\u001b[0;34m.\u001b[0m\u001b[0mshow\u001b[0m\u001b[0;34m(\u001b[0m\u001b[0;36m5\u001b[0m\u001b[0;34m)\u001b[0m\u001b[0;34m\u001b[0m\u001b[0;34m\u001b[0m\u001b[0m\n",
            "\u001b[0;31mTypeError\u001b[0m: 'function' object is not subscriptable"
          ]
        }
      ]
    },
    {
      "cell_type": "code",
      "metadata": {
        "id": "AjK1rYfQJiiM",
        "colab_type": "code",
        "colab": {
          "base_uri": "https://localhost:8080/",
          "height": 122
        },
        "outputId": "3169270c-70a4-47de-84c5-262f3d46f0ef"
      },
      "source": [
        "rc.take(5)"
      ],
      "execution_count": 53,
      "outputs": [
        {
          "output_type": "execute_result",
          "data": {
            "text/plain": [
              "[Row(ID='11857135', Case Number='JC468110', Date=datetime.datetime(2019, 10, 10, 23, 39), Block='053XX S LAWNDALE AVE', IUCR='0486', Primary Type='BATTERY', Description='DOMESTIC BATTERY SIMPLE', Location Description='RESIDENCE', Arrest='true', Domestic='true', Beat='0822', District='008', Ward='23', Community Area='62', FBI Code='08B', X Coordinate='1152613', Y Coordinate='1868984', Year='2019', Updated On='10/17/2019 04:11:50 PM', Latitude='41.796347011', Longitude='-87.715891469', Location='(41.796347011, -87.715891469)', Historical Wards 2003-2015='35', Zip Codes='22248', Community Areas='60', Census Tracts='792', Wards='6', Boundaries - ZIP Codes='56', Police Districts='13', Police Beats='129'),\n",
              " Row(ID='11857005', Case Number='JC468117', Date=datetime.datetime(2019, 10, 10, 23, 38), Block='040XX W LEXINGTON ST', IUCR='2092', Primary Type='NARCOTICS', Description='SOLICIT NARCOTICS ON PUBLICWAY', Location Description='ALLEY', Arrest='true', Domestic='false', Beat='1132', District='011', Ward='24', Community Area='26', FBI Code='18', X Coordinate='1149664', Y Coordinate='1896474', Year='2019', Updated On='10/17/2019 04:11:50 PM', Latitude='41.871840859', Longitude='-87.725993071', Location='(41.871840859, -87.725993071)', Historical Wards 2003-2015='36', Zip Codes='21572', Community Areas='27', Census Tracts='703', Wards='14', Boundaries - ZIP Codes='30', Police Districts='16', Police Beats='142'),\n",
              " Row(ID='11857045', Case Number='JC468132', Date=datetime.datetime(2019, 10, 10, 23, 34), Block='048XX S ELIZABETH ST', IUCR='1261', Primary Type='DECEPTIVE PRACTICE', Description='UNAUTHORIZED VIDEOTAPING', Location Description='RESIDENCE', Arrest='false', Domestic='false', Beat='0933', District='009', Ward='20', Community Area='61', FBI Code='17', X Coordinate='1168810', Y Coordinate='1872621', Year='2019', Updated On='10/17/2019 04:11:50 PM', Latitude='41.805992749', Longitude='-87.656390587', Location='(41.805992749, -87.656390587)', Historical Wards 2003-2015='53', Zip Codes='14924', Community Areas='59', Census Tracts='739', Wards='4', Boundaries - ZIP Codes='37', Police Districts='23', Police Beats='118'),\n",
              " Row(ID='11857374', Case Number='JC468411', Date=datetime.datetime(2019, 10, 10, 23, 31), Block='0000X N LATROBE AVE', IUCR='1320', Primary Type='CRIMINAL DAMAGE', Description='TO VEHICLE', Location Description='STREET', Arrest='false', Domestic='false', Beat='1522', District='015', Ward='28', Community Area='25', FBI Code='14', X Coordinate='1141385', Y Coordinate='1899791', Year='2019', Updated On='10/17/2019 04:11:50 PM', Latitude='41.881099854', Longitude='-87.756307159', Location='(41.881099854, -87.756307159)', Historical Wards 2003-2015='11', Zip Codes='22216', Community Areas='26', Census Tracts='674', Wards='23', Boundaries - ZIP Codes='32', Police Districts='25', Police Beats='97'),\n",
              " Row(ID='11857461', Case Number='JC468482', Date=datetime.datetime(2019, 10, 10, 23, 30), Block='048XX W CHICAGO AVE', IUCR='0330', Primary Type='ROBBERY', Description='AGGRAVATED', Location Description='SIDEWALK', Arrest='false', Domestic='false', Beat='1531', District='015', Ward='37', Community Area='25', FBI Code='03', X Coordinate='1144043', Y Coordinate='1904874', Year='2019', Updated On='10/17/2019 04:11:50 PM', Latitude='41.89499875', Longitude='-87.746419366', Location='(41.89499875, -87.746419366)', Historical Wards 2003-2015='4', Zip Codes='4299', Community Areas='26', Census Tracts='578', Wards='45', Boundaries - ZIP Codes='5', Police Districts='25', Police Beats='69')]"
            ]
          },
          "metadata": {
            "tags": []
          },
          "execution_count": 53
        }
      ]
    },
    {
      "cell_type": "code",
      "metadata": {
        "id": "edMwoBV8JmF9",
        "colab_type": "code",
        "colab": {}
      },
      "source": [
        ""
      ],
      "execution_count": 0,
      "outputs": []
    },
    {
      "cell_type": "code",
      "metadata": {
        "id": "RfRvaX8uJr-M",
        "colab_type": "code",
        "colab": {
          "base_uri": "https://localhost:8080/",
          "height": 54
        },
        "outputId": "4db97495-4c97-4608-dc70-72cbe4f9eb8a"
      },
      "source": [
        "rc.limit(5)"
      ],
      "execution_count": 54,
      "outputs": [
        {
          "output_type": "execute_result",
          "data": {
            "text/plain": [
              "DataFrame[ID: string, Case Number: string, Date: timestamp, Block: string, IUCR: string, Primary Type: string, Description: string, Location Description: string, Arrest: string, Domestic: string, Beat: string, District: string, Ward: string, Community Area: string, FBI Code: string, X Coordinate: string, Y Coordinate: string, Year: string, Updated On: string, Latitude: string, Longitude: string, Location: string, Historical Wards 2003-2015: string, Zip Codes: string, Community Areas: string, Census Tracts: string, Wards: string, Boundaries - ZIP Codes: string, Police Districts: string, Police Beats: string]"
            ]
          },
          "metadata": {
            "tags": []
          },
          "execution_count": 54
        }
      ]
    },
    {
      "cell_type": "code",
      "metadata": {
        "id": "yuQdMbPoJ2Av",
        "colab_type": "code",
        "colab": {
          "base_uri": "https://localhost:8080/",
          "height": 122
        },
        "outputId": "34bf754c-77d7-4cdb-8a88-fec9036f9c93"
      },
      "source": [
        "rc.head(5)"
      ],
      "execution_count": 55,
      "outputs": [
        {
          "output_type": "execute_result",
          "data": {
            "text/plain": [
              "[Row(ID='11857135', Case Number='JC468110', Date=datetime.datetime(2019, 10, 10, 23, 39), Block='053XX S LAWNDALE AVE', IUCR='0486', Primary Type='BATTERY', Description='DOMESTIC BATTERY SIMPLE', Location Description='RESIDENCE', Arrest='true', Domestic='true', Beat='0822', District='008', Ward='23', Community Area='62', FBI Code='08B', X Coordinate='1152613', Y Coordinate='1868984', Year='2019', Updated On='10/17/2019 04:11:50 PM', Latitude='41.796347011', Longitude='-87.715891469', Location='(41.796347011, -87.715891469)', Historical Wards 2003-2015='35', Zip Codes='22248', Community Areas='60', Census Tracts='792', Wards='6', Boundaries - ZIP Codes='56', Police Districts='13', Police Beats='129'),\n",
              " Row(ID='11857005', Case Number='JC468117', Date=datetime.datetime(2019, 10, 10, 23, 38), Block='040XX W LEXINGTON ST', IUCR='2092', Primary Type='NARCOTICS', Description='SOLICIT NARCOTICS ON PUBLICWAY', Location Description='ALLEY', Arrest='true', Domestic='false', Beat='1132', District='011', Ward='24', Community Area='26', FBI Code='18', X Coordinate='1149664', Y Coordinate='1896474', Year='2019', Updated On='10/17/2019 04:11:50 PM', Latitude='41.871840859', Longitude='-87.725993071', Location='(41.871840859, -87.725993071)', Historical Wards 2003-2015='36', Zip Codes='21572', Community Areas='27', Census Tracts='703', Wards='14', Boundaries - ZIP Codes='30', Police Districts='16', Police Beats='142'),\n",
              " Row(ID='11857045', Case Number='JC468132', Date=datetime.datetime(2019, 10, 10, 23, 34), Block='048XX S ELIZABETH ST', IUCR='1261', Primary Type='DECEPTIVE PRACTICE', Description='UNAUTHORIZED VIDEOTAPING', Location Description='RESIDENCE', Arrest='false', Domestic='false', Beat='0933', District='009', Ward='20', Community Area='61', FBI Code='17', X Coordinate='1168810', Y Coordinate='1872621', Year='2019', Updated On='10/17/2019 04:11:50 PM', Latitude='41.805992749', Longitude='-87.656390587', Location='(41.805992749, -87.656390587)', Historical Wards 2003-2015='53', Zip Codes='14924', Community Areas='59', Census Tracts='739', Wards='4', Boundaries - ZIP Codes='37', Police Districts='23', Police Beats='118'),\n",
              " Row(ID='11857374', Case Number='JC468411', Date=datetime.datetime(2019, 10, 10, 23, 31), Block='0000X N LATROBE AVE', IUCR='1320', Primary Type='CRIMINAL DAMAGE', Description='TO VEHICLE', Location Description='STREET', Arrest='false', Domestic='false', Beat='1522', District='015', Ward='28', Community Area='25', FBI Code='14', X Coordinate='1141385', Y Coordinate='1899791', Year='2019', Updated On='10/17/2019 04:11:50 PM', Latitude='41.881099854', Longitude='-87.756307159', Location='(41.881099854, -87.756307159)', Historical Wards 2003-2015='11', Zip Codes='22216', Community Areas='26', Census Tracts='674', Wards='23', Boundaries - ZIP Codes='32', Police Districts='25', Police Beats='97'),\n",
              " Row(ID='11857461', Case Number='JC468482', Date=datetime.datetime(2019, 10, 10, 23, 30), Block='048XX W CHICAGO AVE', IUCR='0330', Primary Type='ROBBERY', Description='AGGRAVATED', Location Description='SIDEWALK', Arrest='false', Domestic='false', Beat='1531', District='015', Ward='37', Community Area='25', FBI Code='03', X Coordinate='1144043', Y Coordinate='1904874', Year='2019', Updated On='10/17/2019 04:11:50 PM', Latitude='41.89499875', Longitude='-87.746419366', Location='(41.89499875, -87.746419366)', Historical Wards 2003-2015='4', Zip Codes='4299', Community Areas='26', Census Tracts='578', Wards='45', Boundaries - ZIP Codes='5', Police Districts='25', Police Beats='69')]"
            ]
          },
          "metadata": {
            "tags": []
          },
          "execution_count": 55
        }
      ]
    },
    {
      "cell_type": "code",
      "metadata": {
        "id": "P5AUxORJJulg",
        "colab_type": "code",
        "colab": {
          "base_uri": "https://localhost:8080/",
          "height": 561
        },
        "outputId": "ca2aa7e8-9816-456c-b94b-e527c9a35e43"
      },
      "source": [
        "rc.printSchema()"
      ],
      "execution_count": 56,
      "outputs": [
        {
          "output_type": "stream",
          "text": [
            "root\n",
            " |-- ID: string (nullable = true)\n",
            " |-- Case Number: string (nullable = true)\n",
            " |-- Date: timestamp (nullable = true)\n",
            " |-- Block: string (nullable = true)\n",
            " |-- IUCR: string (nullable = true)\n",
            " |-- Primary Type: string (nullable = true)\n",
            " |-- Description: string (nullable = true)\n",
            " |-- Location Description: string (nullable = true)\n",
            " |-- Arrest: string (nullable = true)\n",
            " |-- Domestic: string (nullable = true)\n",
            " |-- Beat: string (nullable = true)\n",
            " |-- District: string (nullable = true)\n",
            " |-- Ward: string (nullable = true)\n",
            " |-- Community Area: string (nullable = true)\n",
            " |-- FBI Code: string (nullable = true)\n",
            " |-- X Coordinate: string (nullable = true)\n",
            " |-- Y Coordinate: string (nullable = true)\n",
            " |-- Year: string (nullable = true)\n",
            " |-- Updated On: string (nullable = true)\n",
            " |-- Latitude: string (nullable = true)\n",
            " |-- Longitude: string (nullable = true)\n",
            " |-- Location: string (nullable = true)\n",
            " |-- Historical Wards 2003-2015: string (nullable = true)\n",
            " |-- Zip Codes: string (nullable = true)\n",
            " |-- Community Areas: string (nullable = true)\n",
            " |-- Census Tracts: string (nullable = true)\n",
            " |-- Wards: string (nullable = true)\n",
            " |-- Boundaries - ZIP Codes: string (nullable = true)\n",
            " |-- Police Districts: string (nullable = true)\n",
            " |-- Police Beats: string (nullable = true)\n",
            "\n"
          ],
          "name": "stdout"
        }
      ]
    },
    {
      "cell_type": "code",
      "metadata": {
        "id": "_tAy8N1vKcdk",
        "colab_type": "code",
        "colab": {
          "base_uri": "https://localhost:8080/",
          "height": 527
        },
        "outputId": "ad05d7e4-d882-4acb-909a-db0f9fb22ceb"
      },
      "source": [
        "rc.dtypes"
      ],
      "execution_count": 60,
      "outputs": [
        {
          "output_type": "execute_result",
          "data": {
            "text/plain": [
              "[('ID', 'string'),\n",
              " ('Case Number', 'string'),\n",
              " ('Date', 'timestamp'),\n",
              " ('Block', 'string'),\n",
              " ('IUCR', 'string'),\n",
              " ('Primary Type', 'string'),\n",
              " ('Description', 'string'),\n",
              " ('Location Description', 'string'),\n",
              " ('Arrest', 'string'),\n",
              " ('Domestic', 'string'),\n",
              " ('Beat', 'string'),\n",
              " ('District', 'string'),\n",
              " ('Ward', 'string'),\n",
              " ('Community Area', 'string'),\n",
              " ('FBI Code', 'string'),\n",
              " ('X Coordinate', 'string'),\n",
              " ('Y Coordinate', 'string'),\n",
              " ('Year', 'string'),\n",
              " ('Updated On', 'string'),\n",
              " ('Latitude', 'string'),\n",
              " ('Longitude', 'string'),\n",
              " ('Location', 'string'),\n",
              " ('Historical Wards 2003-2015', 'string'),\n",
              " ('Zip Codes', 'string'),\n",
              " ('Community Areas', 'string'),\n",
              " ('Census Tracts', 'string'),\n",
              " ('Wards', 'string'),\n",
              " ('Boundaries - ZIP Codes', 'string'),\n",
              " ('Police Districts', 'string'),\n",
              " ('Police Beats', 'string')]"
            ]
          },
          "metadata": {
            "tags": []
          },
          "execution_count": 60
        }
      ]
    },
    {
      "cell_type": "code",
      "metadata": {
        "id": "Vu6TLsTwMtq3",
        "colab_type": "code",
        "colab": {
          "base_uri": "https://localhost:8080/",
          "height": 153
        },
        "outputId": "539f7ac2-4459-466c-d299-febad2410b42"
      },
      "source": [
        "rc.select('IUCR').show(2)"
      ],
      "execution_count": 65,
      "outputs": [
        {
          "output_type": "stream",
          "text": [
            "+----+\n",
            "|IUCR|\n",
            "+----+\n",
            "|0486|\n",
            "|2092|\n",
            "+----+\n",
            "only showing top 2 rows\n",
            "\n"
          ],
          "name": "stdout"
        }
      ]
    },
    {
      "cell_type": "code",
      "metadata": {
        "id": "Lm6lwRYAKopv",
        "colab_type": "code",
        "colab": {
          "base_uri": "https://localhost:8080/",
          "height": 204
        },
        "outputId": "aa8c1ac9-2024-4acf-e0b5-9b1cb438e965"
      },
      "source": [
        "rc.select(rc.IUCR).show(5)"
      ],
      "execution_count": 66,
      "outputs": [
        {
          "output_type": "stream",
          "text": [
            "+----+\n",
            "|IUCR|\n",
            "+----+\n",
            "|0486|\n",
            "|2092|\n",
            "|1261|\n",
            "|1320|\n",
            "|0330|\n",
            "+----+\n",
            "only showing top 5 rows\n",
            "\n"
          ],
          "name": "stdout"
        }
      ]
    },
    {
      "cell_type": "code",
      "metadata": {
        "id": "HNjgOt3nOP7Q",
        "colab_type": "code",
        "colab": {
          "base_uri": "https://localhost:8080/",
          "height": 204
        },
        "outputId": "7e382a2d-6fb1-4ba1-b9fc-7ded4c4558c4"
      },
      "source": [
        "rc.select(rc['IUCR']).show(5)"
      ],
      "execution_count": 67,
      "outputs": [
        {
          "output_type": "stream",
          "text": [
            "+----+\n",
            "|IUCR|\n",
            "+----+\n",
            "|0486|\n",
            "|2092|\n",
            "|1261|\n",
            "|1320|\n",
            "|0330|\n",
            "+----+\n",
            "only showing top 5 rows\n",
            "\n"
          ],
          "name": "stdout"
        }
      ]
    },
    {
      "cell_type": "code",
      "metadata": {
        "id": "x_cBpTGjOfoS",
        "colab_type": "code",
        "colab": {
          "base_uri": "https://localhost:8080/",
          "height": 190
        },
        "outputId": "de1267f3-68e0-4a5e-b56a-dafcb8bb9be7"
      },
      "source": [
        "from pyspark.sql.functions import lit\n",
        "rc.withColumn('mangoes',lit(5)).show(3)"
      ],
      "execution_count": 68,
      "outputs": [
        {
          "output_type": "stream",
          "text": [
            "+--------+-----------+-------------------+--------------------+----+------------------+--------------------+--------------------+------+--------+----+--------+----+--------------+--------+------------+------------+----+--------------------+------------+-------------+--------------------+--------------------------+---------+---------------+-------------+-----+----------------------+----------------+------------+-------+\n",
            "|      ID|Case Number|               Date|               Block|IUCR|      Primary Type|         Description|Location Description|Arrest|Domestic|Beat|District|Ward|Community Area|FBI Code|X Coordinate|Y Coordinate|Year|          Updated On|    Latitude|    Longitude|            Location|Historical Wards 2003-2015|Zip Codes|Community Areas|Census Tracts|Wards|Boundaries - ZIP Codes|Police Districts|Police Beats|mangoes|\n",
            "+--------+-----------+-------------------+--------------------+----+------------------+--------------------+--------------------+------+--------+----+--------+----+--------------+--------+------------+------------+----+--------------------+------------+-------------+--------------------+--------------------------+---------+---------------+-------------+-----+----------------------+----------------+------------+-------+\n",
            "|11857135|   JC468110|2019-10-10 23:39:00|053XX S LAWNDALE AVE|0486|           BATTERY|DOMESTIC BATTERY ...|           RESIDENCE|  true|    true|0822|     008|  23|            62|     08B|     1152613|     1868984|2019|10/17/2019 04:11:...|41.796347011|-87.715891469|(41.796347011, -8...|                        35|    22248|             60|          792|    6|                    56|              13|         129|      5|\n",
            "|11857005|   JC468117|2019-10-10 23:38:00|040XX W LEXINGTON ST|2092|         NARCOTICS|SOLICIT NARCOTICS...|               ALLEY|  true|   false|1132|     011|  24|            26|      18|     1149664|     1896474|2019|10/17/2019 04:11:...|41.871840859|-87.725993071|(41.871840859, -8...|                        36|    21572|             27|          703|   14|                    30|              16|         142|      5|\n",
            "|11857045|   JC468132|2019-10-10 23:34:00|048XX S ELIZABETH ST|1261|DECEPTIVE PRACTICE|UNAUTHORIZED VIDE...|           RESIDENCE| false|   false|0933|     009|  20|            61|      17|     1168810|     1872621|2019|10/17/2019 04:11:...|41.805992749|-87.656390587|(41.805992749, -8...|                        53|    14924|             59|          739|    4|                    37|              23|         118|      5|\n",
            "+--------+-----------+-------------------+--------------------+----+------------------+--------------------+--------------------+------+--------+----+--------+----+--------------+--------+------------+------------+----+--------------------+------------+-------------+--------------------+--------------------------+---------+---------------+-------------+-----+----------------------+----------------+------------+-------+\n",
            "only showing top 3 rows\n",
            "\n"
          ],
          "name": "stdout"
        }
      ]
    },
    {
      "cell_type": "code",
      "metadata": {
        "id": "Mn9lE4mJPGlT",
        "colab_type": "code",
        "colab": {
          "base_uri": "https://localhost:8080/",
          "height": 190
        },
        "outputId": "01c05464-f9bd-4e0b-f902-3a27c773f7df"
      },
      "source": [
        "rc.drop('mangoes').show(3)"
      ],
      "execution_count": 69,
      "outputs": [
        {
          "output_type": "stream",
          "text": [
            "+--------+-----------+-------------------+--------------------+----+------------------+--------------------+--------------------+------+--------+----+--------+----+--------------+--------+------------+------------+----+--------------------+------------+-------------+--------------------+--------------------------+---------+---------------+-------------+-----+----------------------+----------------+------------+\n",
            "|      ID|Case Number|               Date|               Block|IUCR|      Primary Type|         Description|Location Description|Arrest|Domestic|Beat|District|Ward|Community Area|FBI Code|X Coordinate|Y Coordinate|Year|          Updated On|    Latitude|    Longitude|            Location|Historical Wards 2003-2015|Zip Codes|Community Areas|Census Tracts|Wards|Boundaries - ZIP Codes|Police Districts|Police Beats|\n",
            "+--------+-----------+-------------------+--------------------+----+------------------+--------------------+--------------------+------+--------+----+--------+----+--------------+--------+------------+------------+----+--------------------+------------+-------------+--------------------+--------------------------+---------+---------------+-------------+-----+----------------------+----------------+------------+\n",
            "|11857135|   JC468110|2019-10-10 23:39:00|053XX S LAWNDALE AVE|0486|           BATTERY|DOMESTIC BATTERY ...|           RESIDENCE|  true|    true|0822|     008|  23|            62|     08B|     1152613|     1868984|2019|10/17/2019 04:11:...|41.796347011|-87.715891469|(41.796347011, -8...|                        35|    22248|             60|          792|    6|                    56|              13|         129|\n",
            "|11857005|   JC468117|2019-10-10 23:38:00|040XX W LEXINGTON ST|2092|         NARCOTICS|SOLICIT NARCOTICS...|               ALLEY|  true|   false|1132|     011|  24|            26|      18|     1149664|     1896474|2019|10/17/2019 04:11:...|41.871840859|-87.725993071|(41.871840859, -8...|                        36|    21572|             27|          703|   14|                    30|              16|         142|\n",
            "|11857045|   JC468132|2019-10-10 23:34:00|048XX S ELIZABETH ST|1261|DECEPTIVE PRACTICE|UNAUTHORIZED VIDE...|           RESIDENCE| false|   false|0933|     009|  20|            61|      17|     1168810|     1872621|2019|10/17/2019 04:11:...|41.805992749|-87.656390587|(41.805992749, -8...|                        53|    14924|             59|          739|    4|                    37|              23|         118|\n",
            "+--------+-----------+-------------------+--------------------+----+------------------+--------------------+--------------------+------+--------+----+--------+----+--------------+--------+------------+------------+----+--------------------+------------+-------------+--------------------+--------------------------+---------+---------------+-------------+-----+----------------------+----------------+------------+\n",
            "only showing top 3 rows\n",
            "\n"
          ],
          "name": "stdout"
        }
      ]
    },
    {
      "cell_type": "code",
      "metadata": {
        "id": "9ALKa2I1PRm7",
        "colab_type": "code",
        "colab": {
          "base_uri": "https://localhost:8080/",
          "height": 34
        },
        "outputId": "57bdd534-4ada-4f06-8142-d616206efdd4"
      },
      "source": [
        "from pyspark.sql.functions import to_timestamp,col,lit\n",
        "rc1 = spark.read.csv('reported-crimes.csv', header=True).withColumn('Date', to_timestamp(col('Date'),'MM/dd/yyyy hh:mm:ss a')).filter(col('Date') == lit('2018-11-12'))\n",
        "rc1.count()"
      ],
      "execution_count": 75,
      "outputs": [
        {
          "output_type": "execute_result",
          "data": {
            "text/plain": [
              "3"
            ]
          },
          "metadata": {
            "tags": []
          },
          "execution_count": 75
        }
      ]
    },
    {
      "cell_type": "code",
      "metadata": {
        "id": "UiYVzb2EQiO4",
        "colab_type": "code",
        "colab": {}
      },
      "source": [
        "  "
      ],
      "execution_count": 0,
      "outputs": []
    }
  ]
}